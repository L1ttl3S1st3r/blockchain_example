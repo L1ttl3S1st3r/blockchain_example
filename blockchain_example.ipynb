{
  "nbformat": 4,
  "nbformat_minor": 0,
  "metadata": {
    "colab": {
      "name": "blockchain_example.ipynb",
      "provenance": [],
      "collapsed_sections": []
    },
    "kernelspec": {
      "name": "python3",
      "display_name": "Python 3"
    }
  },
  "cells": [
    {
      "cell_type": "markdown",
      "metadata": {
        "id": "ij_YsjeVevDC",
        "colab_type": "text"
      },
      "source": [
        "# Пример реализации технологии blockchain\n",
        "## 1 Опишем базовые классы"
      ]
    },
    {
      "cell_type": "code",
      "metadata": {
        "id": "Vg-jCQiETqOy",
        "colab_type": "code",
        "colab": {}
      },
      "source": [
        "from dataclasses import dataclass\n",
        "from typing import Tuple\n",
        "import pandas as pd\n",
        "\n",
        "\n",
        "@dataclass\n",
        "class Block:\n",
        "    transaction: str\n",
        "    hash_code: int\n",
        "        \n",
        "    def calc_transaction_hash(self) -> int:\n",
        "        hash_sum = 0\n",
        "        \n",
        "        for char in self.transaction:\n",
        "            hash_sum += ord(char)\n",
        "            \n",
        "        return hash_sum % 42\n",
        "    \n",
        "    def form_block_hash(self, prev_hash: int):\n",
        "        # (a + b) mod c = (a mod c + b mod c) mod c\n",
        "        self.hash_code = (self.calc_transaction_hash() + prev_hash % 42) % 42\n",
        "    \n",
        "    \n",
        "class Blockchain:\n",
        "    def __init__(self):\n",
        "        self.blocks = [Block('INIT', 14)]\n",
        "        \n",
        "    def add_transaction(self, transaction: str):\n",
        "        new_block = Block(transaction, 0)\n",
        "        \n",
        "        new_block.form_block_hash(self.blocks[-1].hash_code)\n",
        "        \n",
        "        self.blocks.append(new_block)\n",
        "        \n",
        "    def merge_with(self, other: Blockchain) -> Tuple[bool, str]:\n",
        "        # chech other chains history\n",
        "        prev_hash = 0\n",
        "        for my_block, other_block in zip(self.blocks, other.blocks):\n",
        "            my_block.form_block_hash(prev_hash)\n",
        "            other_block.form_block_hash(prev_hash)\n",
        "            \n",
        "            if my_block.hash_code != other_block.hash_code:\n",
        "                return (False, 'Incorrect history')\n",
        "            \n",
        "            prev_hash = my_block.hash_code\n",
        "            \n",
        "        # find difference\n",
        "        difference = other.blocks[len(self.blocks):]\n",
        "        \n",
        "        # check difference\n",
        "        prev_hash_code = other.blocks[len(self.blocks) - 1].hash_code\n",
        "        for block in difference:\n",
        "            current_hash = (\\\n",
        "                prev_hash_code % 42\\\n",
        "                + block.calc_transaction_hash() % 42) % 42\n",
        "            \n",
        "            if block.hash_code != current_hash:\n",
        "                return (False, 'Incorrect differencies')\n",
        "            \n",
        "            prev_hash_code = block.hash_code\n",
        "        \n",
        "        self.blocks.extend(difference)\n",
        "        \n",
        "        return (True, 'Merge is ok')\n",
        "        \n",
        "    def history(self) -> pd.DataFrame:\n",
        "        history = {'transaction': [], 'hash': []}\n",
        "        \n",
        "        for block in self.blocks:\n",
        "            history['transaction'].append(block.transaction)\n",
        "            history['hash'].append(block.hash_code)\n",
        "            \n",
        "            \n",
        "        return pd.DataFrame(history)"
      ],
      "execution_count": 0,
      "outputs": []
    },
    {
      "cell_type": "markdown",
      "metadata": {
        "id": "kSplPpbofAUR",
        "colab_type": "text"
      },
      "source": [
        "## 2 Сформируем 2 репликации цепочки блоков, продемонстрируем результаты"
      ]
    },
    {
      "cell_type": "code",
      "metadata": {
        "id": "hE0nYo9QfGnH",
        "colab_type": "code",
        "colab": {}
      },
      "source": [
        "alice_replication = Blockchain()\n",
        "bob_replication = Blockchain()\n",
        "\n",
        "\n",
        "# 1 transaction\n",
        "alice_replication.add_transaction('5 coins has been given to bob from system')\n",
        "bob_replication.add_transaction('5 coins has been given to bob from system')\n",
        "\n",
        "# 2 transaction\n",
        "alice_replication.add_transaction('15 coins has been given to alice from system')\n",
        "bob_replication.add_transaction('15 coins has been given to alice from system')\n",
        "\n",
        "# 3 transaction\n",
        "alice_replication.add_transaction('alice has given bob 5 coins')\n",
        "bob_replication.add_transaction('alice has given bob 5 coins')"
      ],
      "execution_count": 0,
      "outputs": []
    },
    {
      "cell_type": "code",
      "metadata": {
        "id": "RPO3XfMcjfBY",
        "colab_type": "code",
        "outputId": "be46cefe-30e7-4329-8046-f411759d4986",
        "colab": {
          "base_uri": "https://localhost:8080/",
          "height": 173
        }
      },
      "source": [
        "alice_replication.history()"
      ],
      "execution_count": 0,
      "outputs": [
        {
          "output_type": "execute_result",
          "data": {
            "text/html": [
              "<div>\n",
              "<style scoped>\n",
              "    .dataframe tbody tr th:only-of-type {\n",
              "        vertical-align: middle;\n",
              "    }\n",
              "\n",
              "    .dataframe tbody tr th {\n",
              "        vertical-align: top;\n",
              "    }\n",
              "\n",
              "    .dataframe thead th {\n",
              "        text-align: right;\n",
              "    }\n",
              "</style>\n",
              "<table border=\"1\" class=\"dataframe\">\n",
              "  <thead>\n",
              "    <tr style=\"text-align: right;\">\n",
              "      <th></th>\n",
              "      <th>transaction</th>\n",
              "      <th>hash</th>\n",
              "    </tr>\n",
              "  </thead>\n",
              "  <tbody>\n",
              "    <tr>\n",
              "      <th>0</th>\n",
              "      <td>INIT</td>\n",
              "      <td>14</td>\n",
              "    </tr>\n",
              "    <tr>\n",
              "      <th>1</th>\n",
              "      <td>5 coins has been given to bob from system</td>\n",
              "      <td>35</td>\n",
              "    </tr>\n",
              "    <tr>\n",
              "      <th>2</th>\n",
              "      <td>15 coins has been given to alice from system</td>\n",
              "      <td>14</td>\n",
              "    </tr>\n",
              "    <tr>\n",
              "      <th>3</th>\n",
              "      <td>alice has given bob 5 coins</td>\n",
              "      <td>1</td>\n",
              "    </tr>\n",
              "  </tbody>\n",
              "</table>\n",
              "</div>"
            ],
            "text/plain": [
              "                                    transaction  hash\n",
              "0                                          INIT    14\n",
              "1     5 coins has been given to bob from system    35\n",
              "2  15 coins has been given to alice from system    14\n",
              "3                   alice has given bob 5 coins     1"
            ]
          },
          "metadata": {
            "tags": []
          },
          "execution_count": 143
        }
      ]
    },
    {
      "cell_type": "code",
      "metadata": {
        "id": "wF-sxJKDjr1-",
        "colab_type": "code",
        "outputId": "d0a7da2e-33c4-48e0-bc6a-3ff3ea879aa6",
        "colab": {
          "base_uri": "https://localhost:8080/",
          "height": 173
        }
      },
      "source": [
        "bob_replication.history()"
      ],
      "execution_count": 0,
      "outputs": [
        {
          "output_type": "execute_result",
          "data": {
            "text/html": [
              "<div>\n",
              "<style scoped>\n",
              "    .dataframe tbody tr th:only-of-type {\n",
              "        vertical-align: middle;\n",
              "    }\n",
              "\n",
              "    .dataframe tbody tr th {\n",
              "        vertical-align: top;\n",
              "    }\n",
              "\n",
              "    .dataframe thead th {\n",
              "        text-align: right;\n",
              "    }\n",
              "</style>\n",
              "<table border=\"1\" class=\"dataframe\">\n",
              "  <thead>\n",
              "    <tr style=\"text-align: right;\">\n",
              "      <th></th>\n",
              "      <th>transaction</th>\n",
              "      <th>hash</th>\n",
              "    </tr>\n",
              "  </thead>\n",
              "  <tbody>\n",
              "    <tr>\n",
              "      <th>0</th>\n",
              "      <td>INIT</td>\n",
              "      <td>14</td>\n",
              "    </tr>\n",
              "    <tr>\n",
              "      <th>1</th>\n",
              "      <td>5 coins has been given to bob from system</td>\n",
              "      <td>35</td>\n",
              "    </tr>\n",
              "    <tr>\n",
              "      <th>2</th>\n",
              "      <td>15 coins has been given to alice from system</td>\n",
              "      <td>14</td>\n",
              "    </tr>\n",
              "    <tr>\n",
              "      <th>3</th>\n",
              "      <td>alice has given bob 5 coins</td>\n",
              "      <td>1</td>\n",
              "    </tr>\n",
              "  </tbody>\n",
              "</table>\n",
              "</div>"
            ],
            "text/plain": [
              "                                    transaction  hash\n",
              "0                                          INIT    14\n",
              "1     5 coins has been given to bob from system    35\n",
              "2  15 coins has been given to alice from system    14\n",
              "3                   alice has given bob 5 coins     1"
            ]
          },
          "metadata": {
            "tags": []
          },
          "execution_count": 144
        }
      ]
    },
    {
      "cell_type": "markdown",
      "metadata": {
        "id": "hATufjJamg4q",
        "colab_type": "text"
      },
      "source": [
        "## 3 Продемонстируем локальные изменения и слияние репликаций"
      ]
    },
    {
      "cell_type": "code",
      "metadata": {
        "id": "poKL24-wmn_F",
        "colab_type": "code",
        "colab": {}
      },
      "source": [
        "bob_replication.add_transaction('bob has returned alice 5 coins')"
      ],
      "execution_count": 0,
      "outputs": []
    },
    {
      "cell_type": "code",
      "metadata": {
        "id": "38sZoR-pnLoB",
        "colab_type": "code",
        "outputId": "2dcc7bdc-5293-4082-9b9b-2f24ba76b13f",
        "colab": {
          "base_uri": "https://localhost:8080/",
          "height": 173
        }
      },
      "source": [
        "alice_replication.history()"
      ],
      "execution_count": 0,
      "outputs": [
        {
          "output_type": "execute_result",
          "data": {
            "text/html": [
              "<div>\n",
              "<style scoped>\n",
              "    .dataframe tbody tr th:only-of-type {\n",
              "        vertical-align: middle;\n",
              "    }\n",
              "\n",
              "    .dataframe tbody tr th {\n",
              "        vertical-align: top;\n",
              "    }\n",
              "\n",
              "    .dataframe thead th {\n",
              "        text-align: right;\n",
              "    }\n",
              "</style>\n",
              "<table border=\"1\" class=\"dataframe\">\n",
              "  <thead>\n",
              "    <tr style=\"text-align: right;\">\n",
              "      <th></th>\n",
              "      <th>transaction</th>\n",
              "      <th>hash</th>\n",
              "    </tr>\n",
              "  </thead>\n",
              "  <tbody>\n",
              "    <tr>\n",
              "      <th>0</th>\n",
              "      <td>INIT</td>\n",
              "      <td>14</td>\n",
              "    </tr>\n",
              "    <tr>\n",
              "      <th>1</th>\n",
              "      <td>5 coins has been given to bob from system</td>\n",
              "      <td>35</td>\n",
              "    </tr>\n",
              "    <tr>\n",
              "      <th>2</th>\n",
              "      <td>15 coins has been given to alice from system</td>\n",
              "      <td>14</td>\n",
              "    </tr>\n",
              "    <tr>\n",
              "      <th>3</th>\n",
              "      <td>alice has given bob 5 coins</td>\n",
              "      <td>1</td>\n",
              "    </tr>\n",
              "  </tbody>\n",
              "</table>\n",
              "</div>"
            ],
            "text/plain": [
              "                                    transaction  hash\n",
              "0                                          INIT    14\n",
              "1     5 coins has been given to bob from system    35\n",
              "2  15 coins has been given to alice from system    14\n",
              "3                   alice has given bob 5 coins     1"
            ]
          },
          "metadata": {
            "tags": []
          },
          "execution_count": 146
        }
      ]
    },
    {
      "cell_type": "code",
      "metadata": {
        "id": "OjcttYhVnL6t",
        "colab_type": "code",
        "outputId": "69bece69-98d0-4739-88dc-bb8318a31334",
        "colab": {
          "base_uri": "https://localhost:8080/",
          "height": 204
        }
      },
      "source": [
        "bob_replication.history()"
      ],
      "execution_count": 0,
      "outputs": [
        {
          "output_type": "execute_result",
          "data": {
            "text/html": [
              "<div>\n",
              "<style scoped>\n",
              "    .dataframe tbody tr th:only-of-type {\n",
              "        vertical-align: middle;\n",
              "    }\n",
              "\n",
              "    .dataframe tbody tr th {\n",
              "        vertical-align: top;\n",
              "    }\n",
              "\n",
              "    .dataframe thead th {\n",
              "        text-align: right;\n",
              "    }\n",
              "</style>\n",
              "<table border=\"1\" class=\"dataframe\">\n",
              "  <thead>\n",
              "    <tr style=\"text-align: right;\">\n",
              "      <th></th>\n",
              "      <th>transaction</th>\n",
              "      <th>hash</th>\n",
              "    </tr>\n",
              "  </thead>\n",
              "  <tbody>\n",
              "    <tr>\n",
              "      <th>0</th>\n",
              "      <td>INIT</td>\n",
              "      <td>14</td>\n",
              "    </tr>\n",
              "    <tr>\n",
              "      <th>1</th>\n",
              "      <td>5 coins has been given to bob from system</td>\n",
              "      <td>35</td>\n",
              "    </tr>\n",
              "    <tr>\n",
              "      <th>2</th>\n",
              "      <td>15 coins has been given to alice from system</td>\n",
              "      <td>14</td>\n",
              "    </tr>\n",
              "    <tr>\n",
              "      <th>3</th>\n",
              "      <td>alice has given bob 5 coins</td>\n",
              "      <td>1</td>\n",
              "    </tr>\n",
              "    <tr>\n",
              "      <th>4</th>\n",
              "      <td>bob has returned alice 5 coins</td>\n",
              "      <td>30</td>\n",
              "    </tr>\n",
              "  </tbody>\n",
              "</table>\n",
              "</div>"
            ],
            "text/plain": [
              "                                    transaction  hash\n",
              "0                                          INIT    14\n",
              "1     5 coins has been given to bob from system    35\n",
              "2  15 coins has been given to alice from system    14\n",
              "3                   alice has given bob 5 coins     1\n",
              "4                bob has returned alice 5 coins    30"
            ]
          },
          "metadata": {
            "tags": []
          },
          "execution_count": 147
        }
      ]
    },
    {
      "cell_type": "code",
      "metadata": {
        "id": "oJLerEFanRFi",
        "colab_type": "code",
        "outputId": "9cb6803f-193b-4f97-f3ad-d9ec541f24c0",
        "colab": {
          "base_uri": "https://localhost:8080/",
          "height": 34
        }
      },
      "source": [
        "alice_replication.merge_with(bob_replication)"
      ],
      "execution_count": 0,
      "outputs": [
        {
          "output_type": "execute_result",
          "data": {
            "text/plain": [
              "(True, 'Merge is ok')"
            ]
          },
          "metadata": {
            "tags": []
          },
          "execution_count": 148
        }
      ]
    },
    {
      "cell_type": "code",
      "metadata": {
        "colab_type": "code",
        "id": "Z52C_jL4ne3E",
        "outputId": "d098aa83-8c44-4377-86c5-ffb4a76ebcd4",
        "colab": {
          "base_uri": "https://localhost:8080/",
          "height": 204
        }
      },
      "source": [
        "alice_replication.history()"
      ],
      "execution_count": 0,
      "outputs": [
        {
          "output_type": "execute_result",
          "data": {
            "text/html": [
              "<div>\n",
              "<style scoped>\n",
              "    .dataframe tbody tr th:only-of-type {\n",
              "        vertical-align: middle;\n",
              "    }\n",
              "\n",
              "    .dataframe tbody tr th {\n",
              "        vertical-align: top;\n",
              "    }\n",
              "\n",
              "    .dataframe thead th {\n",
              "        text-align: right;\n",
              "    }\n",
              "</style>\n",
              "<table border=\"1\" class=\"dataframe\">\n",
              "  <thead>\n",
              "    <tr style=\"text-align: right;\">\n",
              "      <th></th>\n",
              "      <th>transaction</th>\n",
              "      <th>hash</th>\n",
              "    </tr>\n",
              "  </thead>\n",
              "  <tbody>\n",
              "    <tr>\n",
              "      <th>0</th>\n",
              "      <td>INIT</td>\n",
              "      <td>14</td>\n",
              "    </tr>\n",
              "    <tr>\n",
              "      <th>1</th>\n",
              "      <td>5 coins has been given to bob from system</td>\n",
              "      <td>35</td>\n",
              "    </tr>\n",
              "    <tr>\n",
              "      <th>2</th>\n",
              "      <td>15 coins has been given to alice from system</td>\n",
              "      <td>14</td>\n",
              "    </tr>\n",
              "    <tr>\n",
              "      <th>3</th>\n",
              "      <td>alice has given bob 5 coins</td>\n",
              "      <td>1</td>\n",
              "    </tr>\n",
              "    <tr>\n",
              "      <th>4</th>\n",
              "      <td>bob has returned alice 5 coins</td>\n",
              "      <td>30</td>\n",
              "    </tr>\n",
              "  </tbody>\n",
              "</table>\n",
              "</div>"
            ],
            "text/plain": [
              "                                    transaction  hash\n",
              "0                                          INIT    14\n",
              "1     5 coins has been given to bob from system    35\n",
              "2  15 coins has been given to alice from system    14\n",
              "3                   alice has given bob 5 coins     1\n",
              "4                bob has returned alice 5 coins    30"
            ]
          },
          "metadata": {
            "tags": []
          },
          "execution_count": 149
        }
      ]
    },
    {
      "cell_type": "code",
      "metadata": {
        "colab_type": "code",
        "id": "Vtg_kPrTne3J",
        "outputId": "bbf04235-02f9-45f0-b9e9-a4368024dbe7",
        "colab": {
          "base_uri": "https://localhost:8080/",
          "height": 204
        }
      },
      "source": [
        "bob_replication.history()"
      ],
      "execution_count": 0,
      "outputs": [
        {
          "output_type": "execute_result",
          "data": {
            "text/html": [
              "<div>\n",
              "<style scoped>\n",
              "    .dataframe tbody tr th:only-of-type {\n",
              "        vertical-align: middle;\n",
              "    }\n",
              "\n",
              "    .dataframe tbody tr th {\n",
              "        vertical-align: top;\n",
              "    }\n",
              "\n",
              "    .dataframe thead th {\n",
              "        text-align: right;\n",
              "    }\n",
              "</style>\n",
              "<table border=\"1\" class=\"dataframe\">\n",
              "  <thead>\n",
              "    <tr style=\"text-align: right;\">\n",
              "      <th></th>\n",
              "      <th>transaction</th>\n",
              "      <th>hash</th>\n",
              "    </tr>\n",
              "  </thead>\n",
              "  <tbody>\n",
              "    <tr>\n",
              "      <th>0</th>\n",
              "      <td>INIT</td>\n",
              "      <td>14</td>\n",
              "    </tr>\n",
              "    <tr>\n",
              "      <th>1</th>\n",
              "      <td>5 coins has been given to bob from system</td>\n",
              "      <td>35</td>\n",
              "    </tr>\n",
              "    <tr>\n",
              "      <th>2</th>\n",
              "      <td>15 coins has been given to alice from system</td>\n",
              "      <td>14</td>\n",
              "    </tr>\n",
              "    <tr>\n",
              "      <th>3</th>\n",
              "      <td>alice has given bob 5 coins</td>\n",
              "      <td>1</td>\n",
              "    </tr>\n",
              "    <tr>\n",
              "      <th>4</th>\n",
              "      <td>bob has returned alice 5 coins</td>\n",
              "      <td>30</td>\n",
              "    </tr>\n",
              "  </tbody>\n",
              "</table>\n",
              "</div>"
            ],
            "text/plain": [
              "                                    transaction  hash\n",
              "0                                          INIT    14\n",
              "1     5 coins has been given to bob from system    35\n",
              "2  15 coins has been given to alice from system    14\n",
              "3                   alice has given bob 5 coins     1\n",
              "4                bob has returned alice 5 coins    30"
            ]
          },
          "metadata": {
            "tags": []
          },
          "execution_count": 150
        }
      ]
    },
    {
      "cell_type": "markdown",
      "metadata": {
        "id": "rZ03rYCJo7gn",
        "colab_type": "text"
      },
      "source": [
        "## 4. Продемонстрируем защиту от недопустимых изменений"
      ]
    },
    {
      "cell_type": "code",
      "metadata": {
        "id": "pr64eduko6m-",
        "colab_type": "code",
        "colab": {}
      },
      "source": [
        "bob_replication.blocks[1].transaction = '9999 coins has been given to bob from system'\n",
        "bob_replication.blocks[1].form_block_hash(0)"
      ],
      "execution_count": 0,
      "outputs": []
    },
    {
      "cell_type": "code",
      "metadata": {
        "id": "jf9n--W-pgEX",
        "colab_type": "code",
        "outputId": "66bab546-fc33-49ce-8094-e68353047ad4",
        "colab": {
          "base_uri": "https://localhost:8080/",
          "height": 204
        }
      },
      "source": [
        "alice_replication.history()"
      ],
      "execution_count": 0,
      "outputs": [
        {
          "output_type": "execute_result",
          "data": {
            "text/html": [
              "<div>\n",
              "<style scoped>\n",
              "    .dataframe tbody tr th:only-of-type {\n",
              "        vertical-align: middle;\n",
              "    }\n",
              "\n",
              "    .dataframe tbody tr th {\n",
              "        vertical-align: top;\n",
              "    }\n",
              "\n",
              "    .dataframe thead th {\n",
              "        text-align: right;\n",
              "    }\n",
              "</style>\n",
              "<table border=\"1\" class=\"dataframe\">\n",
              "  <thead>\n",
              "    <tr style=\"text-align: right;\">\n",
              "      <th></th>\n",
              "      <th>transaction</th>\n",
              "      <th>hash</th>\n",
              "    </tr>\n",
              "  </thead>\n",
              "  <tbody>\n",
              "    <tr>\n",
              "      <th>0</th>\n",
              "      <td>INIT</td>\n",
              "      <td>14</td>\n",
              "    </tr>\n",
              "    <tr>\n",
              "      <th>1</th>\n",
              "      <td>5 coins has been given to bob from system</td>\n",
              "      <td>35</td>\n",
              "    </tr>\n",
              "    <tr>\n",
              "      <th>2</th>\n",
              "      <td>15 coins has been given to alice from system</td>\n",
              "      <td>14</td>\n",
              "    </tr>\n",
              "    <tr>\n",
              "      <th>3</th>\n",
              "      <td>alice has given bob 5 coins</td>\n",
              "      <td>1</td>\n",
              "    </tr>\n",
              "    <tr>\n",
              "      <th>4</th>\n",
              "      <td>bob has returned alice 5 coins</td>\n",
              "      <td>30</td>\n",
              "    </tr>\n",
              "  </tbody>\n",
              "</table>\n",
              "</div>"
            ],
            "text/plain": [
              "                                    transaction  hash\n",
              "0                                          INIT    14\n",
              "1     5 coins has been given to bob from system    35\n",
              "2  15 coins has been given to alice from system    14\n",
              "3                   alice has given bob 5 coins     1\n",
              "4                bob has returned alice 5 coins    30"
            ]
          },
          "metadata": {
            "tags": []
          },
          "execution_count": 152
        }
      ]
    },
    {
      "cell_type": "code",
      "metadata": {
        "id": "IVbltKkuqVF_",
        "colab_type": "code",
        "outputId": "7f37783a-4759-4049-923f-0128b4c5d808",
        "colab": {
          "base_uri": "https://localhost:8080/",
          "height": 204
        }
      },
      "source": [
        "bob_replication.history()"
      ],
      "execution_count": 0,
      "outputs": [
        {
          "output_type": "execute_result",
          "data": {
            "text/html": [
              "<div>\n",
              "<style scoped>\n",
              "    .dataframe tbody tr th:only-of-type {\n",
              "        vertical-align: middle;\n",
              "    }\n",
              "\n",
              "    .dataframe tbody tr th {\n",
              "        vertical-align: top;\n",
              "    }\n",
              "\n",
              "    .dataframe thead th {\n",
              "        text-align: right;\n",
              "    }\n",
              "</style>\n",
              "<table border=\"1\" class=\"dataframe\">\n",
              "  <thead>\n",
              "    <tr style=\"text-align: right;\">\n",
              "      <th></th>\n",
              "      <th>transaction</th>\n",
              "      <th>hash</th>\n",
              "    </tr>\n",
              "  </thead>\n",
              "  <tbody>\n",
              "    <tr>\n",
              "      <th>0</th>\n",
              "      <td>INIT</td>\n",
              "      <td>14</td>\n",
              "    </tr>\n",
              "    <tr>\n",
              "      <th>1</th>\n",
              "      <td>9999 coins has been given to bob from system</td>\n",
              "      <td>28</td>\n",
              "    </tr>\n",
              "    <tr>\n",
              "      <th>2</th>\n",
              "      <td>15 coins has been given to alice from system</td>\n",
              "      <td>14</td>\n",
              "    </tr>\n",
              "    <tr>\n",
              "      <th>3</th>\n",
              "      <td>alice has given bob 5 coins</td>\n",
              "      <td>1</td>\n",
              "    </tr>\n",
              "    <tr>\n",
              "      <th>4</th>\n",
              "      <td>bob has returned alice 5 coins</td>\n",
              "      <td>30</td>\n",
              "    </tr>\n",
              "  </tbody>\n",
              "</table>\n",
              "</div>"
            ],
            "text/plain": [
              "                                    transaction  hash\n",
              "0                                          INIT    14\n",
              "1  9999 coins has been given to bob from system    28\n",
              "2  15 coins has been given to alice from system    14\n",
              "3                   alice has given bob 5 coins     1\n",
              "4                bob has returned alice 5 coins    30"
            ]
          },
          "metadata": {
            "tags": []
          },
          "execution_count": 153
        }
      ]
    },
    {
      "cell_type": "code",
      "metadata": {
        "id": "Pa5mx0LIpSeD",
        "colab_type": "code",
        "outputId": "50bc762f-d833-4c9d-f80f-9f7dce3735ed",
        "colab": {
          "base_uri": "https://localhost:8080/",
          "height": 34
        }
      },
      "source": [
        "alice_replication.merge_with(bob_replication)"
      ],
      "execution_count": 0,
      "outputs": [
        {
          "output_type": "execute_result",
          "data": {
            "text/plain": [
              "(False, 'Incorrect history')"
            ]
          },
          "metadata": {
            "tags": []
          },
          "execution_count": 154
        }
      ]
    }
  ]
}