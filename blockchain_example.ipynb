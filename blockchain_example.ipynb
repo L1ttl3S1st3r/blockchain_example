{
  "nbformat": 4,
  "nbformat_minor": 0,
  "metadata": {
    "colab": {
      "name": "blockchain_example.ipynb",
      "provenance": [],
      "collapsed_sections": [],
      "include_colab_link": true
    },
    "kernelspec": {
      "name": "python3",
      "display_name": "Python 3"
    }
  },
  "cells": [
    {
      "cell_type": "markdown",
      "metadata": {
        "id": "view-in-github",
        "colab_type": "text"
      },
      "source": [
        "<a href=\"https://colab.research.google.com/github/L1ttl3S1st3r/blockchain_example/blob/master/blockchain_example.ipynb\" target=\"_parent\"><img src=\"https://colab.research.google.com/assets/colab-badge.svg\" alt=\"Open In Colab\"/></a>"
      ]
    },
    {
      "cell_type": "markdown",
      "metadata": {
        "id": "ij_YsjeVevDC",
        "colab_type": "text"
      },
      "source": [
        "# Пример реализации технологии blockchain\n",
        "## 1 Опишем классы"
      ]
    },
    {
      "cell_type": "code",
      "metadata": {
        "id": "Vg-jCQiETqOy",
        "colab_type": "code",
        "colab": {}
      },
      "source": [
        "from dataclasses import dataclass\n",
        "from typing import Tuple, List\n",
        "import pandas as pd\n",
        "\n",
        "\n",
        "@dataclass\n",
        "class Block:\n",
        "    transaction: str\n",
        "    hash_code: int\n",
        "        \n",
        "    def calc_transaction_hash(self) -> int:\n",
        "        hash_sum = 0\n",
        "        \n",
        "        for char in self.transaction:\n",
        "            hash_sum += ord(char)\n",
        "            \n",
        "        return hash_sum % 42\n",
        "    \n",
        "    def form_block_hash(self, prev_hash: int):\n",
        "        # (a + b) mod c = (a mod c + b mod c) mod c\n",
        "        self.hash_code = (self.calc_transaction_hash() + prev_hash) % 42\n",
        "    \n",
        "    \n",
        "class Blockchain:\n",
        "    \"\"\" Just a smart linked list of Blocks \"\"\"\n",
        "    def __init__(self):\n",
        "        self.blocks = [Block('INIT', 14)]\n",
        "        \n",
        "    def add_transaction(self, transaction: str):\n",
        "        new_block = Block(transaction, 0)\n",
        "        \n",
        "        new_block.form_block_hash(self.blocks[-1].hash_code)\n",
        "        \n",
        "        self.blocks.append(new_block)\n",
        "        \n",
        "    def _other_is_incorrect(self, other: Blockchain) -> bool:\n",
        "        # compare histories of self and other\n",
        "        prev_hash = 0\n",
        "        for my_block, other_block in zip(self.blocks, other.blocks):\n",
        "            my_block.form_block_hash(prev_hash)\n",
        "            other_block.form_block_hash(prev_hash)\n",
        "            \n",
        "            if my_block.hash_code != other_block.hash_code:\n",
        "                # if any hashes are not equal, then one of chains is not correct\n",
        "                return True\n",
        "            \n",
        "            prev_hash = my_block.hash_code\n",
        "\n",
        "        # else the both chains are correct\n",
        "        return False\n",
        "    \n",
        "    def _difference_of_chains(self, other: Blockchain) -> List[Block]:\n",
        "        return other.blocks[len(self.blocks):]\n",
        "        \n",
        "    def _difference_is_incorrect(self, difference: List[Block]) -> bool:\n",
        "        # check if block[i].hash_code = hash(\n",
        "        #     hash(block[i].transaction) + block[i - 1].hash_code\n",
        "        # )\n",
        "        # for the all i\n",
        "        prev_hash_code = self.blocks[-1].hash_code\n",
        "        \n",
        "        for block in difference:\n",
        "            current_hash = (\\\n",
        "                prev_hash_code\\\n",
        "                + block.calc_transaction_hash()) % 42\n",
        "            \n",
        "            if block.hash_code != current_hash:\n",
        "                return True\n",
        "            \n",
        "            prev_hash_code = block.hash_code\n",
        "        \n",
        "        return False\n",
        "        \n",
        "    def merge_with(self, other: Blockchain) -> Tuple[bool, str]:\n",
        "        \"\"\" \n",
        "            merges this chain with other\n",
        "            returns result of operation and description\n",
        "        \"\"\"\n",
        "        # chech other chains history\n",
        "        if self._other_is_incorrect(other):\n",
        "            return (False, 'Incorrect history')\n",
        "            \n",
        "        # find difference between two chains\n",
        "        difference = self._difference_of_chains(other)\n",
        "        \n",
        "        # check difference\n",
        "        if self._difference_is_incorrect(difference):\n",
        "            return (False, 'Incorrect difference')\n",
        "        \n",
        "        # merge difference\n",
        "        self.blocks.extend(difference)\n",
        "        \n",
        "        return (True, 'Merge is ok')\n",
        "        \n",
        "    def history(self) -> pd.DataFrame:\n",
        "        history = {'transaction': [], 'hash': []}\n",
        "        \n",
        "        for block in self.blocks:\n",
        "            history['transaction'].append(block.transaction)\n",
        "            history['hash'].append(block.hash_code)\n",
        "            \n",
        "            \n",
        "        return pd.DataFrame(history)"
      ],
      "execution_count": 0,
      "outputs": []
    },
    {
      "cell_type": "markdown",
      "metadata": {
        "id": "kSplPpbofAUR",
        "colab_type": "text"
      },
      "source": [
        "## 2 Сформируем 2 репликации цепочки блоков, продемонстрируем результаты"
      ]
    },
    {
      "cell_type": "code",
      "metadata": {
        "id": "hE0nYo9QfGnH",
        "colab_type": "code",
        "colab": {}
      },
      "source": [
        "alice_replication = Blockchain()\n",
        "bob_replication = Blockchain()\n",
        "\n",
        "\n",
        "# 1 transaction\n",
        "alice_replication.add_transaction('5 coins has been given to bob from system')\n",
        "bob_replication.add_transaction('5 coins has been given to bob from system')\n",
        "\n",
        "# 2 transaction\n",
        "alice_replication.add_transaction('15 coins has been given to alice from system')\n",
        "bob_replication.add_transaction('15 coins has been given to alice from system')\n",
        "\n",
        "# 3 transaction\n",
        "alice_replication.add_transaction('alice has given bob 5 coins')\n",
        "bob_replication.add_transaction('alice has given bob 5 coins')"
      ],
      "execution_count": 0,
      "outputs": []
    },
    {
      "cell_type": "code",
      "metadata": {
        "id": "RPO3XfMcjfBY",
        "colab_type": "code",
        "outputId": "be3905d9-58ad-430f-c4bb-b2b36b5fc596",
        "colab": {
          "base_uri": "https://localhost:8080/",
          "height": 173
        }
      },
      "source": [
        "alice_replication.history()"
      ],
      "execution_count": 185,
      "outputs": [
        {
          "output_type": "execute_result",
          "data": {
            "text/html": [
              "<div>\n",
              "<style scoped>\n",
              "    .dataframe tbody tr th:only-of-type {\n",
              "        vertical-align: middle;\n",
              "    }\n",
              "\n",
              "    .dataframe tbody tr th {\n",
              "        vertical-align: top;\n",
              "    }\n",
              "\n",
              "    .dataframe thead th {\n",
              "        text-align: right;\n",
              "    }\n",
              "</style>\n",
              "<table border=\"1\" class=\"dataframe\">\n",
              "  <thead>\n",
              "    <tr style=\"text-align: right;\">\n",
              "      <th></th>\n",
              "      <th>transaction</th>\n",
              "      <th>hash</th>\n",
              "    </tr>\n",
              "  </thead>\n",
              "  <tbody>\n",
              "    <tr>\n",
              "      <th>0</th>\n",
              "      <td>INIT</td>\n",
              "      <td>14</td>\n",
              "    </tr>\n",
              "    <tr>\n",
              "      <th>1</th>\n",
              "      <td>5 coins has been given to bob from system</td>\n",
              "      <td>35</td>\n",
              "    </tr>\n",
              "    <tr>\n",
              "      <th>2</th>\n",
              "      <td>15 coins has been given to alice from system</td>\n",
              "      <td>14</td>\n",
              "    </tr>\n",
              "    <tr>\n",
              "      <th>3</th>\n",
              "      <td>alice has given bob 5 coins</td>\n",
              "      <td>1</td>\n",
              "    </tr>\n",
              "  </tbody>\n",
              "</table>\n",
              "</div>"
            ],
            "text/plain": [
              "                                    transaction  hash\n",
              "0                                          INIT    14\n",
              "1     5 coins has been given to bob from system    35\n",
              "2  15 coins has been given to alice from system    14\n",
              "3                   alice has given bob 5 coins     1"
            ]
          },
          "metadata": {
            "tags": []
          },
          "execution_count": 185
        }
      ]
    },
    {
      "cell_type": "code",
      "metadata": {
        "id": "wF-sxJKDjr1-",
        "colab_type": "code",
        "outputId": "d04b7427-9dc9-48b2-e1bf-e3a72cf57bd3",
        "colab": {
          "base_uri": "https://localhost:8080/",
          "height": 173
        }
      },
      "source": [
        "bob_replication.history()"
      ],
      "execution_count": 186,
      "outputs": [
        {
          "output_type": "execute_result",
          "data": {
            "text/html": [
              "<div>\n",
              "<style scoped>\n",
              "    .dataframe tbody tr th:only-of-type {\n",
              "        vertical-align: middle;\n",
              "    }\n",
              "\n",
              "    .dataframe tbody tr th {\n",
              "        vertical-align: top;\n",
              "    }\n",
              "\n",
              "    .dataframe thead th {\n",
              "        text-align: right;\n",
              "    }\n",
              "</style>\n",
              "<table border=\"1\" class=\"dataframe\">\n",
              "  <thead>\n",
              "    <tr style=\"text-align: right;\">\n",
              "      <th></th>\n",
              "      <th>transaction</th>\n",
              "      <th>hash</th>\n",
              "    </tr>\n",
              "  </thead>\n",
              "  <tbody>\n",
              "    <tr>\n",
              "      <th>0</th>\n",
              "      <td>INIT</td>\n",
              "      <td>14</td>\n",
              "    </tr>\n",
              "    <tr>\n",
              "      <th>1</th>\n",
              "      <td>5 coins has been given to bob from system</td>\n",
              "      <td>35</td>\n",
              "    </tr>\n",
              "    <tr>\n",
              "      <th>2</th>\n",
              "      <td>15 coins has been given to alice from system</td>\n",
              "      <td>14</td>\n",
              "    </tr>\n",
              "    <tr>\n",
              "      <th>3</th>\n",
              "      <td>alice has given bob 5 coins</td>\n",
              "      <td>1</td>\n",
              "    </tr>\n",
              "  </tbody>\n",
              "</table>\n",
              "</div>"
            ],
            "text/plain": [
              "                                    transaction  hash\n",
              "0                                          INIT    14\n",
              "1     5 coins has been given to bob from system    35\n",
              "2  15 coins has been given to alice from system    14\n",
              "3                   alice has given bob 5 coins     1"
            ]
          },
          "metadata": {
            "tags": []
          },
          "execution_count": 186
        }
      ]
    },
    {
      "cell_type": "markdown",
      "metadata": {
        "id": "hATufjJamg4q",
        "colab_type": "text"
      },
      "source": [
        "## 3 Продемонстируем локальные изменения и слияние репликаций"
      ]
    },
    {
      "cell_type": "code",
      "metadata": {
        "id": "poKL24-wmn_F",
        "colab_type": "code",
        "colab": {}
      },
      "source": [
        "bob_replication.add_transaction('bob has returned alice 5 coins')"
      ],
      "execution_count": 0,
      "outputs": []
    },
    {
      "cell_type": "code",
      "metadata": {
        "id": "38sZoR-pnLoB",
        "colab_type": "code",
        "outputId": "7febb191-34f0-4f70-f7ec-04fe6428f34d",
        "colab": {
          "base_uri": "https://localhost:8080/",
          "height": 173
        }
      },
      "source": [
        "alice_replication.history()"
      ],
      "execution_count": 188,
      "outputs": [
        {
          "output_type": "execute_result",
          "data": {
            "text/html": [
              "<div>\n",
              "<style scoped>\n",
              "    .dataframe tbody tr th:only-of-type {\n",
              "        vertical-align: middle;\n",
              "    }\n",
              "\n",
              "    .dataframe tbody tr th {\n",
              "        vertical-align: top;\n",
              "    }\n",
              "\n",
              "    .dataframe thead th {\n",
              "        text-align: right;\n",
              "    }\n",
              "</style>\n",
              "<table border=\"1\" class=\"dataframe\">\n",
              "  <thead>\n",
              "    <tr style=\"text-align: right;\">\n",
              "      <th></th>\n",
              "      <th>transaction</th>\n",
              "      <th>hash</th>\n",
              "    </tr>\n",
              "  </thead>\n",
              "  <tbody>\n",
              "    <tr>\n",
              "      <th>0</th>\n",
              "      <td>INIT</td>\n",
              "      <td>14</td>\n",
              "    </tr>\n",
              "    <tr>\n",
              "      <th>1</th>\n",
              "      <td>5 coins has been given to bob from system</td>\n",
              "      <td>35</td>\n",
              "    </tr>\n",
              "    <tr>\n",
              "      <th>2</th>\n",
              "      <td>15 coins has been given to alice from system</td>\n",
              "      <td>14</td>\n",
              "    </tr>\n",
              "    <tr>\n",
              "      <th>3</th>\n",
              "      <td>alice has given bob 5 coins</td>\n",
              "      <td>1</td>\n",
              "    </tr>\n",
              "  </tbody>\n",
              "</table>\n",
              "</div>"
            ],
            "text/plain": [
              "                                    transaction  hash\n",
              "0                                          INIT    14\n",
              "1     5 coins has been given to bob from system    35\n",
              "2  15 coins has been given to alice from system    14\n",
              "3                   alice has given bob 5 coins     1"
            ]
          },
          "metadata": {
            "tags": []
          },
          "execution_count": 188
        }
      ]
    },
    {
      "cell_type": "code",
      "metadata": {
        "id": "OjcttYhVnL6t",
        "colab_type": "code",
        "outputId": "e1224520-1a0d-4f7c-de4e-0f4078a165ea",
        "colab": {
          "base_uri": "https://localhost:8080/",
          "height": 204
        }
      },
      "source": [
        "bob_replication.history()"
      ],
      "execution_count": 189,
      "outputs": [
        {
          "output_type": "execute_result",
          "data": {
            "text/html": [
              "<div>\n",
              "<style scoped>\n",
              "    .dataframe tbody tr th:only-of-type {\n",
              "        vertical-align: middle;\n",
              "    }\n",
              "\n",
              "    .dataframe tbody tr th {\n",
              "        vertical-align: top;\n",
              "    }\n",
              "\n",
              "    .dataframe thead th {\n",
              "        text-align: right;\n",
              "    }\n",
              "</style>\n",
              "<table border=\"1\" class=\"dataframe\">\n",
              "  <thead>\n",
              "    <tr style=\"text-align: right;\">\n",
              "      <th></th>\n",
              "      <th>transaction</th>\n",
              "      <th>hash</th>\n",
              "    </tr>\n",
              "  </thead>\n",
              "  <tbody>\n",
              "    <tr>\n",
              "      <th>0</th>\n",
              "      <td>INIT</td>\n",
              "      <td>14</td>\n",
              "    </tr>\n",
              "    <tr>\n",
              "      <th>1</th>\n",
              "      <td>5 coins has been given to bob from system</td>\n",
              "      <td>35</td>\n",
              "    </tr>\n",
              "    <tr>\n",
              "      <th>2</th>\n",
              "      <td>15 coins has been given to alice from system</td>\n",
              "      <td>14</td>\n",
              "    </tr>\n",
              "    <tr>\n",
              "      <th>3</th>\n",
              "      <td>alice has given bob 5 coins</td>\n",
              "      <td>1</td>\n",
              "    </tr>\n",
              "    <tr>\n",
              "      <th>4</th>\n",
              "      <td>bob has returned alice 5 coins</td>\n",
              "      <td>30</td>\n",
              "    </tr>\n",
              "  </tbody>\n",
              "</table>\n",
              "</div>"
            ],
            "text/plain": [
              "                                    transaction  hash\n",
              "0                                          INIT    14\n",
              "1     5 coins has been given to bob from system    35\n",
              "2  15 coins has been given to alice from system    14\n",
              "3                   alice has given bob 5 coins     1\n",
              "4                bob has returned alice 5 coins    30"
            ]
          },
          "metadata": {
            "tags": []
          },
          "execution_count": 189
        }
      ]
    },
    {
      "cell_type": "code",
      "metadata": {
        "id": "oJLerEFanRFi",
        "colab_type": "code",
        "outputId": "4a0818ee-9c0c-46d9-acda-53a2139cbfdc",
        "colab": {
          "base_uri": "https://localhost:8080/",
          "height": 34
        }
      },
      "source": [
        "alice_replication.merge_with(bob_replication)"
      ],
      "execution_count": 190,
      "outputs": [
        {
          "output_type": "execute_result",
          "data": {
            "text/plain": [
              "(True, 'Merge is ok')"
            ]
          },
          "metadata": {
            "tags": []
          },
          "execution_count": 190
        }
      ]
    },
    {
      "cell_type": "code",
      "metadata": {
        "colab_type": "code",
        "id": "Z52C_jL4ne3E",
        "outputId": "145f22fd-bea2-4708-c099-5f8b642b36b1",
        "colab": {
          "base_uri": "https://localhost:8080/",
          "height": 204
        }
      },
      "source": [
        "alice_replication.history()"
      ],
      "execution_count": 191,
      "outputs": [
        {
          "output_type": "execute_result",
          "data": {
            "text/html": [
              "<div>\n",
              "<style scoped>\n",
              "    .dataframe tbody tr th:only-of-type {\n",
              "        vertical-align: middle;\n",
              "    }\n",
              "\n",
              "    .dataframe tbody tr th {\n",
              "        vertical-align: top;\n",
              "    }\n",
              "\n",
              "    .dataframe thead th {\n",
              "        text-align: right;\n",
              "    }\n",
              "</style>\n",
              "<table border=\"1\" class=\"dataframe\">\n",
              "  <thead>\n",
              "    <tr style=\"text-align: right;\">\n",
              "      <th></th>\n",
              "      <th>transaction</th>\n",
              "      <th>hash</th>\n",
              "    </tr>\n",
              "  </thead>\n",
              "  <tbody>\n",
              "    <tr>\n",
              "      <th>0</th>\n",
              "      <td>INIT</td>\n",
              "      <td>14</td>\n",
              "    </tr>\n",
              "    <tr>\n",
              "      <th>1</th>\n",
              "      <td>5 coins has been given to bob from system</td>\n",
              "      <td>35</td>\n",
              "    </tr>\n",
              "    <tr>\n",
              "      <th>2</th>\n",
              "      <td>15 coins has been given to alice from system</td>\n",
              "      <td>14</td>\n",
              "    </tr>\n",
              "    <tr>\n",
              "      <th>3</th>\n",
              "      <td>alice has given bob 5 coins</td>\n",
              "      <td>1</td>\n",
              "    </tr>\n",
              "    <tr>\n",
              "      <th>4</th>\n",
              "      <td>bob has returned alice 5 coins</td>\n",
              "      <td>30</td>\n",
              "    </tr>\n",
              "  </tbody>\n",
              "</table>\n",
              "</div>"
            ],
            "text/plain": [
              "                                    transaction  hash\n",
              "0                                          INIT    14\n",
              "1     5 coins has been given to bob from system    35\n",
              "2  15 coins has been given to alice from system    14\n",
              "3                   alice has given bob 5 coins     1\n",
              "4                bob has returned alice 5 coins    30"
            ]
          },
          "metadata": {
            "tags": []
          },
          "execution_count": 191
        }
      ]
    },
    {
      "cell_type": "code",
      "metadata": {
        "colab_type": "code",
        "id": "Vtg_kPrTne3J",
        "outputId": "561ffb03-e3bb-4def-968a-4e87bd0b1771",
        "colab": {
          "base_uri": "https://localhost:8080/",
          "height": 204
        }
      },
      "source": [
        "bob_replication.history()"
      ],
      "execution_count": 192,
      "outputs": [
        {
          "output_type": "execute_result",
          "data": {
            "text/html": [
              "<div>\n",
              "<style scoped>\n",
              "    .dataframe tbody tr th:only-of-type {\n",
              "        vertical-align: middle;\n",
              "    }\n",
              "\n",
              "    .dataframe tbody tr th {\n",
              "        vertical-align: top;\n",
              "    }\n",
              "\n",
              "    .dataframe thead th {\n",
              "        text-align: right;\n",
              "    }\n",
              "</style>\n",
              "<table border=\"1\" class=\"dataframe\">\n",
              "  <thead>\n",
              "    <tr style=\"text-align: right;\">\n",
              "      <th></th>\n",
              "      <th>transaction</th>\n",
              "      <th>hash</th>\n",
              "    </tr>\n",
              "  </thead>\n",
              "  <tbody>\n",
              "    <tr>\n",
              "      <th>0</th>\n",
              "      <td>INIT</td>\n",
              "      <td>14</td>\n",
              "    </tr>\n",
              "    <tr>\n",
              "      <th>1</th>\n",
              "      <td>5 coins has been given to bob from system</td>\n",
              "      <td>35</td>\n",
              "    </tr>\n",
              "    <tr>\n",
              "      <th>2</th>\n",
              "      <td>15 coins has been given to alice from system</td>\n",
              "      <td>14</td>\n",
              "    </tr>\n",
              "    <tr>\n",
              "      <th>3</th>\n",
              "      <td>alice has given bob 5 coins</td>\n",
              "      <td>1</td>\n",
              "    </tr>\n",
              "    <tr>\n",
              "      <th>4</th>\n",
              "      <td>bob has returned alice 5 coins</td>\n",
              "      <td>30</td>\n",
              "    </tr>\n",
              "  </tbody>\n",
              "</table>\n",
              "</div>"
            ],
            "text/plain": [
              "                                    transaction  hash\n",
              "0                                          INIT    14\n",
              "1     5 coins has been given to bob from system    35\n",
              "2  15 coins has been given to alice from system    14\n",
              "3                   alice has given bob 5 coins     1\n",
              "4                bob has returned alice 5 coins    30"
            ]
          },
          "metadata": {
            "tags": []
          },
          "execution_count": 192
        }
      ]
    },
    {
      "cell_type": "markdown",
      "metadata": {
        "id": "rZ03rYCJo7gn",
        "colab_type": "text"
      },
      "source": [
        "## 4. Продемонстрируем защиту от недопустимых изменений"
      ]
    },
    {
      "cell_type": "code",
      "metadata": {
        "id": "pr64eduko6m-",
        "colab_type": "code",
        "colab": {}
      },
      "source": [
        "bob_replication.blocks[1].transaction = '9999 coins has been given to bob from system'\n",
        "bob_replication.blocks[1].form_block_hash(0)"
      ],
      "execution_count": 0,
      "outputs": []
    },
    {
      "cell_type": "code",
      "metadata": {
        "id": "jf9n--W-pgEX",
        "colab_type": "code",
        "outputId": "30d55f61-630c-4a41-88b0-e9fd8d4a212e",
        "colab": {
          "base_uri": "https://localhost:8080/",
          "height": 204
        }
      },
      "source": [
        "alice_replication.history()"
      ],
      "execution_count": 194,
      "outputs": [
        {
          "output_type": "execute_result",
          "data": {
            "text/html": [
              "<div>\n",
              "<style scoped>\n",
              "    .dataframe tbody tr th:only-of-type {\n",
              "        vertical-align: middle;\n",
              "    }\n",
              "\n",
              "    .dataframe tbody tr th {\n",
              "        vertical-align: top;\n",
              "    }\n",
              "\n",
              "    .dataframe thead th {\n",
              "        text-align: right;\n",
              "    }\n",
              "</style>\n",
              "<table border=\"1\" class=\"dataframe\">\n",
              "  <thead>\n",
              "    <tr style=\"text-align: right;\">\n",
              "      <th></th>\n",
              "      <th>transaction</th>\n",
              "      <th>hash</th>\n",
              "    </tr>\n",
              "  </thead>\n",
              "  <tbody>\n",
              "    <tr>\n",
              "      <th>0</th>\n",
              "      <td>INIT</td>\n",
              "      <td>14</td>\n",
              "    </tr>\n",
              "    <tr>\n",
              "      <th>1</th>\n",
              "      <td>5 coins has been given to bob from system</td>\n",
              "      <td>35</td>\n",
              "    </tr>\n",
              "    <tr>\n",
              "      <th>2</th>\n",
              "      <td>15 coins has been given to alice from system</td>\n",
              "      <td>14</td>\n",
              "    </tr>\n",
              "    <tr>\n",
              "      <th>3</th>\n",
              "      <td>alice has given bob 5 coins</td>\n",
              "      <td>1</td>\n",
              "    </tr>\n",
              "    <tr>\n",
              "      <th>4</th>\n",
              "      <td>bob has returned alice 5 coins</td>\n",
              "      <td>30</td>\n",
              "    </tr>\n",
              "  </tbody>\n",
              "</table>\n",
              "</div>"
            ],
            "text/plain": [
              "                                    transaction  hash\n",
              "0                                          INIT    14\n",
              "1     5 coins has been given to bob from system    35\n",
              "2  15 coins has been given to alice from system    14\n",
              "3                   alice has given bob 5 coins     1\n",
              "4                bob has returned alice 5 coins    30"
            ]
          },
          "metadata": {
            "tags": []
          },
          "execution_count": 194
        }
      ]
    },
    {
      "cell_type": "code",
      "metadata": {
        "id": "IVbltKkuqVF_",
        "colab_type": "code",
        "outputId": "73b1c746-8e79-4b38-8c71-91d27b495c39",
        "colab": {
          "base_uri": "https://localhost:8080/",
          "height": 204
        }
      },
      "source": [
        "bob_replication.history()"
      ],
      "execution_count": 195,
      "outputs": [
        {
          "output_type": "execute_result",
          "data": {
            "text/html": [
              "<div>\n",
              "<style scoped>\n",
              "    .dataframe tbody tr th:only-of-type {\n",
              "        vertical-align: middle;\n",
              "    }\n",
              "\n",
              "    .dataframe tbody tr th {\n",
              "        vertical-align: top;\n",
              "    }\n",
              "\n",
              "    .dataframe thead th {\n",
              "        text-align: right;\n",
              "    }\n",
              "</style>\n",
              "<table border=\"1\" class=\"dataframe\">\n",
              "  <thead>\n",
              "    <tr style=\"text-align: right;\">\n",
              "      <th></th>\n",
              "      <th>transaction</th>\n",
              "      <th>hash</th>\n",
              "    </tr>\n",
              "  </thead>\n",
              "  <tbody>\n",
              "    <tr>\n",
              "      <th>0</th>\n",
              "      <td>INIT</td>\n",
              "      <td>14</td>\n",
              "    </tr>\n",
              "    <tr>\n",
              "      <th>1</th>\n",
              "      <td>9999 coins has been given to bob from system</td>\n",
              "      <td>28</td>\n",
              "    </tr>\n",
              "    <tr>\n",
              "      <th>2</th>\n",
              "      <td>15 coins has been given to alice from system</td>\n",
              "      <td>14</td>\n",
              "    </tr>\n",
              "    <tr>\n",
              "      <th>3</th>\n",
              "      <td>alice has given bob 5 coins</td>\n",
              "      <td>1</td>\n",
              "    </tr>\n",
              "    <tr>\n",
              "      <th>4</th>\n",
              "      <td>bob has returned alice 5 coins</td>\n",
              "      <td>30</td>\n",
              "    </tr>\n",
              "  </tbody>\n",
              "</table>\n",
              "</div>"
            ],
            "text/plain": [
              "                                    transaction  hash\n",
              "0                                          INIT    14\n",
              "1  9999 coins has been given to bob from system    28\n",
              "2  15 coins has been given to alice from system    14\n",
              "3                   alice has given bob 5 coins     1\n",
              "4                bob has returned alice 5 coins    30"
            ]
          },
          "metadata": {
            "tags": []
          },
          "execution_count": 195
        }
      ]
    },
    {
      "cell_type": "code",
      "metadata": {
        "id": "Pa5mx0LIpSeD",
        "colab_type": "code",
        "outputId": "de43407e-3761-417b-c213-698705b92f6d",
        "colab": {
          "base_uri": "https://localhost:8080/",
          "height": 34
        }
      },
      "source": [
        "alice_replication.merge_with(bob_replication)"
      ],
      "execution_count": 196,
      "outputs": [
        {
          "output_type": "execute_result",
          "data": {
            "text/plain": [
              "(False, 'Incorrect history')"
            ]
          },
          "metadata": {
            "tags": []
          },
          "execution_count": 196
        }
      ]
    }
  ]
}